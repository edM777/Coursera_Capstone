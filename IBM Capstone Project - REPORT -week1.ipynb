{
 "cells": [
  {
   "cell_type": "markdown",
   "id": "d680c144",
   "metadata": {},
   "source": [
    "# <center>Exploring Chicago Neighborhood Venues and Predicting Economic Hardship</center>"
   ]
  },
  {
   "cell_type": "markdown",
   "id": "aa401766",
   "metadata": {},
   "source": [
    "## Introduction and Business Proposal"
   ]
  },
  {
   "cell_type": "markdown",
   "id": "24cf091d",
   "metadata": {},
   "source": [
    "Studies have shown that many of Chicago's neighborhoods and suburbs are stratified by income. As someone who has lived in Chicago most of their life, I have observed this myself. One moment you may be walking down a neighborhood full of abandoned houses and people struggling to make ends meet, and a few neighborhoods over you may have people living in mansions. To better study the economic difficulties that different neighborhoods/communities across Chicago face, the University of Illinois at Chicago (UIC) developed the \"hardship index\". The economic hardship score is an average of six standardized variables: Unemployment, Education, per capita income level, poverty, crowded housing, dependency. <br><br>\n",
    "As you can imagine, there are multiple factors that may affect a neighborhood's hardship index, such as its size, racial makeup, age, etc. However, here we will explore how the types of venues in a given neighborhood may affect the hardship score. The goal is for city officials and developers to be able to determine or predict how different venues may affect a neighborhoods' economy. Using this information, developers may also more effectively decide which venues should be constructed or demolished to benefit the community. "
   ]
  },
  {
   "cell_type": "markdown",
   "id": "c719dc6e",
   "metadata": {},
   "source": [
    "## Data Description"
   ]
  },
  {
   "cell_type": "markdown",
   "id": "c5ffb0a7",
   "metadata": {},
   "source": [
    "First we will obtain the hardship index scores for all the neighborhoods in Chicago, from the City of Chicago's database. This is an integer score ranging from 0 - 100, where 100 is the highest hardship. <br>\n",
    "We will also require geographical coordinate data for the neighborhoods in order to determine the nearby venues. We may obtain this data using geocoder and the neighborhood names. <br>\n",
    "With the geographical data, we can then obtain a dataset of the nearby venues for each neighborhood using the Foursquare API. This will allow us to determine the popular venue categories for each neighborhood, and using this we can try to predict a given neighborhoods' hardship level"
   ]
  },
  {
   "cell_type": "code",
   "execution_count": null,
   "id": "82dac3fb",
   "metadata": {},
   "outputs": [],
   "source": []
  },
  {
   "cell_type": "markdown",
   "id": "09786d88",
   "metadata": {},
   "source": [
    "## References"
   ]
  },
  {
   "cell_type": "markdown",
   "id": "a2baf5ec",
   "metadata": {},
   "source": [
    "1. https://www.chicagobusiness.com/static/section/chicagos-wealth-divide.html\n",
    "2. https://greatcities.uic.edu/wp-content/uploads/2019/12/Hardship-Index-Fact-Sheet-2017-ACS-Final-1.pdf\n",
    "3. https://data.cityofchicago.org/Health-Human-Services/Census-Data-Selected-socioeconomic-indicators-in-C/kn9c-c2s2/data"
   ]
  },
  {
   "cell_type": "code",
   "execution_count": null,
   "id": "29964be6",
   "metadata": {},
   "outputs": [],
   "source": []
  }
 ],
 "metadata": {
  "kernelspec": {
   "display_name": "Python 3",
   "language": "python",
   "name": "python3"
  },
  "language_info": {
   "codemirror_mode": {
    "name": "ipython",
    "version": 3
   },
   "file_extension": ".py",
   "mimetype": "text/x-python",
   "name": "python",
   "nbconvert_exporter": "python",
   "pygments_lexer": "ipython3",
   "version": "3.8.10"
  }
 },
 "nbformat": 4,
 "nbformat_minor": 5
}
